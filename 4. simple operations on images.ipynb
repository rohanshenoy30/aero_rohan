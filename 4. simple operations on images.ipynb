{
 "cells": [
  {
   "cell_type": "code",
   "execution_count": 5,
   "id": "b72b1545",
   "metadata": {},
   "outputs": [],
   "source": [
    "import numpy as np\n",
    "import cv2"
   ]
  },
  {
   "cell_type": "code",
   "execution_count": 6,
   "id": "e0774e75",
   "metadata": {},
   "outputs": [],
   "source": [
    "img=cv2.imread('/Users/rohanshenoy/Desktop/watch.jpg',cv2.IMREAD_COLOR)"
   ]
  },
  {
   "cell_type": "code",
   "execution_count": 7,
   "id": "08cb0519",
   "metadata": {},
   "outputs": [],
   "source": [
    "img[55,55]=[255,255,255]\n",
    "px=img[55,55]\n",
    "img[100:150,100:150]=[255,255,255]\n",
    "watch_face = img[37:111,107:194]\n",
    "img[0:74,0:87]=watch_face"
   ]
  },
  {
   "cell_type": "code",
   "execution_count": 8,
   "id": "a74118a5",
   "metadata": {},
   "outputs": [],
   "source": [
    "cv2.imshow('Image',img)\n",
    "cv2.waitKey(0)\n",
    "cv2.destroyAllWindows()"
   ]
  }
 ],
 "metadata": {
  "kernelspec": {
   "display_name": "Python 3 (ipykernel)",
   "language": "python",
   "name": "python3"
  },
  "language_info": {
   "codemirror_mode": {
    "name": "ipython",
    "version": 3
   },
   "file_extension": ".py",
   "mimetype": "text/x-python",
   "name": "python",
   "nbconvert_exporter": "python",
   "pygments_lexer": "ipython3",
   "version": "3.11.5"
  }
 },
 "nbformat": 4,
 "nbformat_minor": 5
}
