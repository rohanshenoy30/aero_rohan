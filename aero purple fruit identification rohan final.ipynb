{
 "cells": [
  {
   "cell_type": "markdown",
   "id": "13487358",
   "metadata": {},
   "source": [
    "# importing libraries and loading the image"
   ]
  },
  {
   "cell_type": "code",
   "execution_count": 1,
   "id": "dbe849a4",
   "metadata": {},
   "outputs": [],
   "source": [
    "import cv2\n",
    "import numpy as np\n",
    "\n",
    "\n",
    "image = cv2.imread('/Users/rohanshenoy/Desktop/aero/opencv/photos/led0.png')"
   ]
  },
  {
   "cell_type": "markdown",
   "id": "fe7f9272",
   "metadata": {},
   "source": [
    "# converting image to hsv colorspace and defining range for hsv color"
   ]
  },
  {
   "cell_type": "code",
   "execution_count": 2,
   "id": "bf3b2422",
   "metadata": {},
   "outputs": [],
   "source": [
    "hsv_image = cv2.cvtColor(image, cv2.COLOR_BGR2HSV)\n",
    "\n",
    "# Define the range for the color purple in HSV\n",
    "lower_purple = np.array([125, 40, 40])  # Lower bound of purple\n",
    "upper_purple = np.array([165, 255, 255])  # Upper bound of purple\n"
   ]
  },
  {
   "cell_type": "markdown",
   "id": "2ecb143d",
   "metadata": {},
   "source": [
    "# creating a mask for purple color and finding contours in the mask"
   ]
  },
  {
   "cell_type": "code",
   "execution_count": 3,
   "id": "e6f0e055",
   "metadata": {},
   "outputs": [],
   "source": [
    "# Create a mask for purple color\n",
    "mask = cv2.inRange(hsv_image, lower_purple, upper_purple)\n",
    "\n",
    "# Find contours in the mask\n",
    "contours, _ = cv2.findContours(mask, cv2.RETR_EXTERNAL, cv2.CHAIN_APPROX_SIMPLE)\n",
    "#we find only the outermost/external contours in the mask, and use chain_approx simple to save memory"
   ]
  },
  {
   "cell_type": "markdown",
   "id": "4e46ed0e",
   "metadata": {},
   "source": [
    "# drawing box around fruits and labelling them"
   ]
  },
  {
   "cell_type": "code",
   "execution_count": 4,
   "id": "dba62766",
   "metadata": {},
   "outputs": [],
   "source": [
    "for contour in contours:\n",
    "    if cv2.contourArea(contour) > 25:  # Filter out small contours\n",
    "        x, y, w, h = cv2.boundingRect(contour)\n",
    "        cv2.rectangle(image, (x, y), (x + w, y + h), (0, 255, 0), 2)\n",
    "        cv2.putText(image, 'Purple Fruit', (x, y - 10), cv2.FONT_HERSHEY_SIMPLEX, 0.9, (0, 255, 0), 2)\n"
   ]
  },
  {
   "cell_type": "markdown",
   "id": "fe4d61c1",
   "metadata": {},
   "source": [
    "# displaying results"
   ]
  },
  {
   "cell_type": "code",
   "execution_count": 5,
   "id": "6331a96d",
   "metadata": {},
   "outputs": [],
   "source": [
    "cv2.imshow('Purple Fruits Detection', image)\n",
    "cv2.waitKey(0)\n",
    "cv2.destroyAllWindows()\n"
   ]
  },
  {
   "cell_type": "code",
   "execution_count": null,
   "id": "1bfa0ed3",
   "metadata": {},
   "outputs": [],
   "source": []
  }
 ],
 "metadata": {
  "kernelspec": {
   "display_name": "Python 3 (ipykernel)",
   "language": "python",
   "name": "python3"
  },
  "language_info": {
   "codemirror_mode": {
    "name": "ipython",
    "version": 3
   },
   "file_extension": ".py",
   "mimetype": "text/x-python",
   "name": "python",
   "nbconvert_exporter": "python",
   "pygments_lexer": "ipython3",
   "version": "3.11.5"
  }
 },
 "nbformat": 4,
 "nbformat_minor": 5
}
