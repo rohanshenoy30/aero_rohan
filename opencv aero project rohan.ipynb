{
 "cells": [
  {
   "cell_type": "markdown",
   "id": "e4fac31f",
   "metadata": {},
   "source": [
    "# importing libraries"
   ]
  },
  {
   "cell_type": "code",
   "execution_count": 1,
   "id": "3e938906",
   "metadata": {},
   "outputs": [],
   "source": [
    "import cv2\n",
    "import numpy as np"
   ]
  },
  {
   "cell_type": "markdown",
   "id": "a3f3b716",
   "metadata": {},
   "source": [
    "# loading the image"
   ]
  },
  {
   "cell_type": "code",
   "execution_count": 2,
   "id": "f02872af",
   "metadata": {},
   "outputs": [],
   "source": [
    "image = cv2.imread('/Users/rohanshenoy/Desktop/aero/opencv/photos/cat.jpg')"
   ]
  },
  {
   "cell_type": "markdown",
   "id": "abedc3f7",
   "metadata": {},
   "source": [
    "# performing different operations on the image"
   ]
  },
  {
   "cell_type": "code",
   "execution_count": 3,
   "id": "b1dc879a",
   "metadata": {},
   "outputs": [
    {
     "data": {
      "text/plain": [
       "array([[[  0,  22,  34],\n",
       "        [  2,  24,  36],\n",
       "        [  5,  24,  37],\n",
       "        ...,\n",
       "        [ 62,  93, 144],\n",
       "        [ 60,  91, 142],\n",
       "        [ 60,  91, 142]],\n",
       "\n",
       "       [[  0,  22,  34],\n",
       "        [  1,  23,  35],\n",
       "        [  4,  23,  36],\n",
       "        ...,\n",
       "        [ 63,  94, 145],\n",
       "        [ 62,  93, 144],\n",
       "        [ 62,  93, 144]],\n",
       "\n",
       "       [[  0,  21,  33],\n",
       "        [  0,  22,  34],\n",
       "        [  3,  23,  34],\n",
       "        ...,\n",
       "        [ 64,  95, 146],\n",
       "        [ 65,  96, 147],\n",
       "        [ 65,  96, 147]],\n",
       "\n",
       "       ...,\n",
       "\n",
       "       [[ 74,  80,  91],\n",
       "        [ 74,  80,  91],\n",
       "        [ 74,  80,  91],\n",
       "        ...,\n",
       "        [ 33,  38,  39],\n",
       "        [ 34,  39,  40],\n",
       "        [ 34,  39,  40]],\n",
       "\n",
       "       [[ 74,  80,  91],\n",
       "        [ 74,  80,  91],\n",
       "        [ 73,  79,  90],\n",
       "        ...,\n",
       "        [ 35,  40,  41],\n",
       "        [ 35,  40,  41],\n",
       "        [ 35,  40,  41]],\n",
       "\n",
       "       [[ 74,  80,  91],\n",
       "        [ 74,  80,  91],\n",
       "        [ 73,  79,  90],\n",
       "        ...,\n",
       "        [ 36,  41,  42],\n",
       "        [ 37,  42,  43],\n",
       "        [ 37,  42,  43]]], dtype=uint8)"
      ]
     },
     "execution_count": 3,
     "metadata": {},
     "output_type": "execute_result"
    }
   ],
   "source": [
    "gray_image = cv2.cvtColor(image, cv2.COLOR_BGR2GRAY)\n",
    "\n",
    "hsv_image = cv2.cvtColor(image, cv2.COLOR_BGR2HSV)\n",
    "\n",
    "edges = cv2.Canny(image, 100, 200)\n",
    "\n",
    "blurred_image = cv2.GaussianBlur(image, (31, 31), 0)\n",
    "\n",
    "_, thresholded_image = cv2.threshold(gray_image, 127, 255, cv2.THRESH_BINARY)\n",
    "\n",
    "contours, _ = cv2.findContours(thresholded_image, cv2.RETR_TREE, cv2.CHAIN_APPROX_SIMPLE)\n",
    "\n",
    "# Draw contours\n",
    "contoured_image = image.copy()\n",
    "cv2.drawContours(contoured_image, contours, -1, (0, 255, 0), 2)"
   ]
  },
  {
   "cell_type": "markdown",
   "id": "4322bd65",
   "metadata": {},
   "source": [
    "# displaying the image"
   ]
  },
  {
   "cell_type": "code",
   "execution_count": 4,
   "id": "e3c76c68",
   "metadata": {},
   "outputs": [],
   "source": [
    "# Display the images\n",
    "cv2.imshow('Original Image', image)\n",
    "cv2.imshow('Grayscale Image', gray_image)\n",
    "cv2.imshow('HSV Image', hsv_image)\n",
    "cv2.imshow('Canny Edges', edges)\n",
    "cv2.imshow('Blurred Image', blurred_image)\n",
    "cv2.imshow('Thresholded Image', thresholded_image)\n",
    "cv2.imshow('Contours', contoured_image)"
   ]
  },
  {
   "cell_type": "code",
   "execution_count": 5,
   "id": "17b12d91",
   "metadata": {},
   "outputs": [],
   "source": [
    "cv2.waitKey(0)\n",
    "cv2.destroyAllWindows()"
   ]
  }
 ],
 "metadata": {
  "kernelspec": {
   "display_name": "Python 3 (ipykernel)",
   "language": "python",
   "name": "python3"
  },
  "language_info": {
   "codemirror_mode": {
    "name": "ipython",
    "version": 3
   },
   "file_extension": ".py",
   "mimetype": "text/x-python",
   "name": "python",
   "nbconvert_exporter": "python",
   "pygments_lexer": "ipython3",
   "version": "3.11.5"
  }
 },
 "nbformat": 4,
 "nbformat_minor": 5
}
