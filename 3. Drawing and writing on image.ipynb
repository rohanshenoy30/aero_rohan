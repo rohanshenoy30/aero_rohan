{
 "cells": [
  {
   "cell_type": "code",
   "execution_count": 1,
   "id": "e9cfdcea",
   "metadata": {},
   "outputs": [],
   "source": [
    "import numpy as np\n",
    "import cv2"
   ]
  },
  {
   "cell_type": "code",
   "execution_count": 2,
   "id": "8c3cb3cf",
   "metadata": {},
   "outputs": [],
   "source": [
    "img = cv2.imread('/Users/rohanshenoy/Desktop/watch.jpg',cv2.IMREAD_COLOR)"
   ]
  },
  {
   "cell_type": "code",
   "execution_count": 3,
   "id": "b6bc9299",
   "metadata": {},
   "outputs": [
    {
     "data": {
      "text/plain": [
       "array([[[255, 255, 255],\n",
       "        [255, 255, 255],\n",
       "        [255, 255, 255],\n",
       "        ...,\n",
       "        [  4,  11,  32],\n",
       "        [  4,  11,  32],\n",
       "        [  4,  11,  32]],\n",
       "\n",
       "       [[255, 255, 255],\n",
       "        [255, 255, 255],\n",
       "        [255, 255, 255],\n",
       "        ...,\n",
       "        [  4,  11,  32],\n",
       "        [  4,  11,  32],\n",
       "        [  4,  11,  32]],\n",
       "\n",
       "       [[255, 255, 255],\n",
       "        [255, 255, 255],\n",
       "        [255, 255, 255],\n",
       "        ...,\n",
       "        [  2,   8,  30],\n",
       "        [  2,   8,  30],\n",
       "        [  2,   8,  30]],\n",
       "\n",
       "       ...,\n",
       "\n",
       "       [[ 36, 113, 180],\n",
       "        [ 33, 111, 178],\n",
       "        [ 35, 112, 179],\n",
       "        ...,\n",
       "        [ 26, 102, 179],\n",
       "        [ 27, 104, 180],\n",
       "        [ 26, 102, 179]],\n",
       "\n",
       "       [[ 38, 116, 183],\n",
       "        [ 36, 113, 180],\n",
       "        [ 37, 115, 182],\n",
       "        ...,\n",
       "        [ 27, 104, 180],\n",
       "        [ 27, 104, 180],\n",
       "        [ 24, 101, 178]],\n",
       "\n",
       "       [[ 40, 118, 185],\n",
       "        [ 38, 116, 183],\n",
       "        [ 39, 117, 184],\n",
       "        ...,\n",
       "        [ 27, 104, 180],\n",
       "        [ 26, 102, 179],\n",
       "        [ 24, 101, 178]]], dtype=uint8)"
      ]
     },
     "execution_count": 3,
     "metadata": {},
     "output_type": "execute_result"
    }
   ],
   "source": [
    "cv2.line(img,(0,0),(150,150),(255,255,255),15)\n",
    "cv2.rectangle(img,(15,25),(200,150),(0,255,0),5)\n",
    "cv2.circle(img,(100,63),55,(0,0,255),-1)"
   ]
  },
  {
   "cell_type": "code",
   "execution_count": 4,
   "id": "ab431362",
   "metadata": {},
   "outputs": [
    {
     "data": {
      "text/plain": [
       "array([[[255, 255, 255],\n",
       "        [255, 255, 255],\n",
       "        [255, 255, 255],\n",
       "        ...,\n",
       "        [  4,  11,  32],\n",
       "        [  4,  11,  32],\n",
       "        [  4,  11,  32]],\n",
       "\n",
       "       [[255, 255, 255],\n",
       "        [255, 255, 255],\n",
       "        [255, 255, 255],\n",
       "        ...,\n",
       "        [  4,  11,  32],\n",
       "        [  4,  11,  32],\n",
       "        [  4,  11,  32]],\n",
       "\n",
       "       [[255, 255, 255],\n",
       "        [255, 255, 255],\n",
       "        [255, 255, 255],\n",
       "        ...,\n",
       "        [  2,   8,  30],\n",
       "        [  2,   8,  30],\n",
       "        [  2,   8,  30]],\n",
       "\n",
       "       ...,\n",
       "\n",
       "       [[ 36, 113, 180],\n",
       "        [ 33, 111, 178],\n",
       "        [ 35, 112, 179],\n",
       "        ...,\n",
       "        [ 26, 102, 179],\n",
       "        [ 27, 104, 180],\n",
       "        [ 26, 102, 179]],\n",
       "\n",
       "       [[ 38, 116, 183],\n",
       "        [ 36, 113, 180],\n",
       "        [ 37, 115, 182],\n",
       "        ...,\n",
       "        [ 27, 104, 180],\n",
       "        [ 27, 104, 180],\n",
       "        [ 24, 101, 178]],\n",
       "\n",
       "       [[ 40, 118, 185],\n",
       "        [ 38, 116, 183],\n",
       "        [ 39, 117, 184],\n",
       "        ...,\n",
       "        [ 27, 104, 180],\n",
       "        [ 26, 102, 179],\n",
       "        [ 24, 101, 178]]], dtype=uint8)"
      ]
     },
     "execution_count": 4,
     "metadata": {},
     "output_type": "execute_result"
    }
   ],
   "source": [
    "font=cv2.FONT_HERSHEY_SIMPLEX\n",
    "cv2.putText(img,'Open CV tuts',(0,130),font,1,(200,255,255),2,cv2.LINE_AA)\n"
   ]
  },
  {
   "cell_type": "code",
   "execution_count": 5,
   "id": "c63be385",
   "metadata": {},
   "outputs": [],
   "source": [
    "cv2.imshow('image',img)\n",
    "cv2.waitKey(0)\n",
    "cv2.destroyAllWindows()"
   ]
  }
 ],
 "metadata": {
  "kernelspec": {
   "display_name": "Python 3 (ipykernel)",
   "language": "python",
   "name": "python3"
  },
  "language_info": {
   "codemirror_mode": {
    "name": "ipython",
    "version": 3
   },
   "file_extension": ".py",
   "mimetype": "text/x-python",
   "name": "python",
   "nbconvert_exporter": "python",
   "pygments_lexer": "ipython3",
   "version": "3.11.5"
  }
 },
 "nbformat": 4,
 "nbformat_minor": 5
}
